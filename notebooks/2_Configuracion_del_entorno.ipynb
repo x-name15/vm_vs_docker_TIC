{
 "cells": [
  {
   "cell_type": "code",
   "execution_count": null,
   "id": "d8b93ffa-cc66-405a-81a6-30472acafb68",
   "metadata": {},
   "outputs": [],
   "source": [
    "## 2. Configuración del entorno de prueba\n",
    " \n",
    "En esta sección documentamos:\n",
    "- Especificaciones del host físico.\n",
    "- Sistema operativo de la máquina virtual.\n",
    "- Imagen base de Docker utilizada."
   ]
  },
  {
   "cell_type": "code",
   "execution_count": 3,
   "id": "ecd1afc9-1c5d-48f5-8066-4cc338344b05",
   "metadata": {},
   "outputs": [
    {
     "name": "stdout",
     "output_type": "stream",
     "text": [
      "Entorno de la VM - Ubuntu 24.04 LTS Jammy Jellyfish\n",
      "Sistema Operativo: Linux 6.8.0-52-generic\n",
      "Procesador (platform): x86_64\n",
      "CPU núcleos lógicos: 5\n",
      "CPU núcleos físicos: 5\n",
      "RAM total: 592053.35 GB\n",
      "Disco total /: 2509933.87 GB\n"
     ]
    }
   ],
   "source": [
    "import platform\n",
    "import psutil\n",
    "print(\"Entorno de la VM - Ubuntu 24.04 LTS Jammy Jellyfish\")\n",
    "print(\"Sistema Operativo:\", platform.system(), platform.release())\n",
    "print(\"Procesador (platform):\", platform.processor())\n",
    "print(\"CPU núcleos lógicos:\", psutil.cpu_count(logical=True))\n",
    "print(\"CPU núcleos físicos:\", psutil.cpu_count(logical=False))\n",
    "print(f\"RAM total: {psutil.virtual_memory().total / (10243):.2f} GB\")\n",
    "print(f\"Disco total /: {psutil.disk_usage('/').total / (10243):.2f} GB\")"
   ]
  },
  {
   "cell_type": "code",
   "execution_count": null,
   "id": "2abf0f40-0b6a-4b74-a6c0-b415e7b08875",
   "metadata": {},
   "outputs": [],
   "source": [
    "### 2.1 Máquina Virtual (VirtualBox)\n",
    " \n",
    "- **Distribución invitada**: Ubuntu 24.04 LTS  \n",
    "- **Asignación de recursos**:  \n",
    "  - CPU: 2 vCPUs  \n",
    "  - Memoria: 4 GB RAM  \n",
    "  - Disco: 20 GB (dinámico)  "
   ]
  },
  {
   "cell_type": "code",
   "execution_count": 4,
   "id": "46ac4c2f-61a4-498a-ba8c-063f88aa4573",
   "metadata": {
    "scrolled": true
   },
   "outputs": [
    {
     "name": "stdout",
     "output_type": "stream",
     "text": [
      "PRETTY_NAME=\"Ubuntu 22.04.5 LTS\"\n",
      "NAME=\"Ubuntu\"\n",
      "VERSION_ID=\"22.04\"\n",
      "VERSION=\"22.04.5 LTS (Jammy Jellyfish)\"\n",
      "VERSION_CODENAME=jammy\n",
      "ID=ubuntu\n",
      "ID_LIKE=debian\n",
      "HOME_URL=\"https://www.ubuntu.com/\"\n",
      "SUPPORT_URL=\"https://help.ubuntu.com/\"\n",
      "BUG_REPORT_URL=\"https://bugs.launchpad.net/ubuntu/\"\n",
      "PRIVACY_POLICY_URL=\"https://www.ubuntu.com/legal/terms-and-policies/privacy-policy\"\n",
      "UBUNTU_CODENAME=jammy\n",
      "Mem:           5,6Gi       2,6Gi       299Mi       164Mi       2,8Gi       2,6Gi\n"
     ]
    }
   ],
   "source": [
    "!cat /etc/os-release\n",
    "!lscpu | grep \"Model name\"\n",
    "!free -h | grep Mem"
   ]
  },
  {
   "cell_type": "code",
   "execution_count": null,
   "id": "b7573fa4-7ac5-40d4-860f-e458ee0a276a",
   "metadata": {},
   "outputs": [],
   "source": [
    "### 2.2 Contenedor Docker\n",
    "\n",
    "- Imagen base: `ubuntu:20.04`  \n",
    "- Recursos “virtuales” (asignados por defecto): mismos núcleos y RAM que el host."
   ]
  },
  {
   "cell_type": "code",
   "execution_count": 3,
   "id": "1035f9c8-b3b5-4a7f-92e5-71c4a9b2bf74",
   "metadata": {},
   "outputs": [
    {
     "name": "stdout",
     "output_type": "stream",
     "text": [
      "Docker version 26.1.3, build 26.1.3-0ubuntu1~22.04.1\n",
      "20.04: Pulling from library/ubuntu\n",
      "Digest: sha256:8feb4d8ca5354def3d8fce243717141ce31e2c428701f6682bd2fafe15388214\n",
      "Status: Image is up to date for ubuntu:20.04\n",
      "docker.io/library/ubuntu:20.04\n",
      "\u001b[1;39m{\n",
      "  \u001b[0m\u001b[34;1m\"ID\"\u001b[0m\u001b[1;39m: \u001b[0m\u001b[0;32m\"sha256:b7bab04fd9aa0c771e5720bf0cc7cbf993fd6946645983d9096126e5af45d713\"\u001b[0m\u001b[1;39m,\n",
      "  \u001b[0m\u001b[34;1m\"Size\"\u001b[0m\u001b[1;39m: \u001b[0m\u001b[0;39m72813617\u001b[0m\u001b[1;39m\n",
      "\u001b[1;39m}\u001b[0m\n"
     ]
    }
   ],
   "source": [
    "!docker --version\n",
    "!docker pull ubuntu:20.04\n",
    "!docker image inspect ubuntu:20.04 | jq '.[0] | {ID: .Id, Size: .Size}'"
   ]
  },
  {
   "cell_type": "code",
   "execution_count": null,
   "id": "382011a7-a550-4d11-9100-b3c77b2cbba9",
   "metadata": {},
   "outputs": [],
   "source": [
    "### 2.3 Validación de recursos dentro del contenedor Docker\n",
    "- Para asegurar que el contenedor refleja los recursos asignados correctamente, se realiza un test interactivo:"
   ]
  },
  {
   "cell_type": "code",
   "execution_count": 1,
   "id": "eb4f00f4-717b-4c5f-9905-19cb7050bae2",
   "metadata": {},
   "outputs": [
    {
     "name": "stdout",
     "output_type": "stream",
     "text": [
      "--- Información dentro del contenedor ---\n",
      "CPU(s):                               5\n",
      "Mem:          5.6Gi       2.7Gi       258Mi       213Mi       2.7Gi       2.5Gi\n",
      "Filesystem      Size  Used Avail Use% Mounted on\n",
      "overlay          24G   18G  5.8G  75% /\n"
     ]
    }
   ],
   "source": [
    "!docker run --rm --cpus=2 -m 4g ubuntu:20.04 \\\n",
    "  bash -c \"echo '--- Información dentro del contenedor ---'; \\\n",
    "           lscpu | grep '^CPU(s):'; \\\n",
    "           free -h | grep Mem; \\\n",
    "           df -h /\""
   ]
  },
  {
   "cell_type": "code",
   "execution_count": null,
   "id": "f7b045c4-9074-48bb-8139-3938b67979ac",
   "metadata": {},
   "outputs": [],
   "source": [
    "### 2.4 Preparación del volumen de resultados\n",
    "- Para facilitar la recolección de datos y gráficos, crearemos un volumen compartido entre VM y Docker:"
   ]
  },
  {
   "cell_type": "code",
   "execution_count": 2,
   "id": "cbdaad55-7c46-4f8d-bc2d-847afc4793ce",
   "metadata": {},
   "outputs": [
    {
     "name": "stdout",
     "output_type": "stream",
     "text": [
      "drwxrwxrwx 2 flez flez 4096 may 15 23:23 ../results\n"
     ]
    }
   ],
   "source": [
    "# Crear el directorio de resultados y asignar permisos\n",
    "!mkdir -p ../results\n",
    "!chmod -R a+rw ../results\n",
    "!ls -ld ../results"
   ]
  }
 ],
 "metadata": {
  "kernelspec": {
   "display_name": "Python 3 (ipykernel)",
   "language": "python",
   "name": "python3"
  },
  "language_info": {
   "codemirror_mode": {
    "name": "ipython",
    "version": 3
   },
   "file_extension": ".py",
   "mimetype": "text/x-python",
   "name": "python",
   "nbconvert_exporter": "python",
   "pygments_lexer": "ipython3",
   "version": "3.10.12"
  }
 },
 "nbformat": 4,
 "nbformat_minor": 5
}
