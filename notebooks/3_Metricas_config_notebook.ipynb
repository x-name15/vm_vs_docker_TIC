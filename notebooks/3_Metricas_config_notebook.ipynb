{
 "cells": [
  {
   "cell_type": "code",
   "execution_count": null,
   "id": "20030cd0-3ea0-4d90-80b3-05e7969f7065",
   "metadata": {},
   "outputs": [],
   "source": [
    "3.1 Instalación de Herramientas\n",
    "- En caso de no tenerlas instaladas, se pueden agregar mediante el siguiente script:"
   ]
  },
  {
   "cell_type": "code",
   "execution_count": null,
   "id": "a1678d28-0ed4-4085-8aad-6360060bea14",
   "metadata": {},
   "outputs": [
    {
     "name": "stdout",
     "output_type": "stream",
     "text": [
      "[sudo] contraseña para flez: "
     ]
    }
   ],
   "source": [
    "# Bash Script para instalación\n",
    "!sudo apt update && sudo apt install -y sysbench python3-pip jq\n",
    "!pip3 install psutil --upgrade"
   ]
  },
  {
   "cell_type": "code",
   "execution_count": null,
   "id": "c130b628-8af2-43bf-bdca-07d23b9ec01c",
   "metadata": {},
   "outputs": [],
   "source": [
    "3.2 Verificación de Instalación,\n",
    "- Para confirmar que todo está correctamente instalado y en la versión adecuada:"
   ]
  },
  {
   "cell_type": "code",
   "execution_count": null,
   "id": "b0265224-7195-43bf-a0c8-42c8cfd79633",
   "metadata": {},
   "outputs": [],
   "source": [
    "# Verificación de versiones\n",
    "!sysbench --version\n",
    "!python3 --version\n",
    "!pip3 --version\n",
    "!jq --version"
   ]
  }
 ],
 "metadata": {
  "kernelspec": {
   "display_name": "Python 3 (ipykernel)",
   "language": "python",
   "name": "python3"
  },
  "language_info": {
   "codemirror_mode": {
    "name": "ipython",
    "version": 3
   },
   "file_extension": ".py",
   "mimetype": "text/x-python",
   "name": "python",
   "nbconvert_exporter": "python",
   "pygments_lexer": "ipython3",
   "version": "3.10.12"
  }
 },
 "nbformat": 4,
 "nbformat_minor": 5
}
