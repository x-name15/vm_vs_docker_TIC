{
 "cells": [
  {
   "cell_type": "code",
   "execution_count": null,
   "id": "03d51779-1731-4e5a-b0c0-e7d1e7db0ef6",
   "metadata": {},
   "outputs": [],
   "source": [
    "# Paso 4: Pruebas de Rendimiento (Benchmarking)  \n",
    "\n",
    "En este paso, se llevarán a cabo las pruebas de rendimiento para comparar el desempeño entre la Máquina Virtual y el Contenedor Docker.  \n",
    "Las métricas evaluadas son las siguientes:  \n",
    "- CPU  \n",
    "- Memoria RAM  \n",
    "- Almacenamiento  \n",
    "- Consumo de Recursos  \n",
    "\n",
    "Las pruebas se realizarán de forma individual para cada entorno (VM y Docker) utilizando `sysbench` para los benchmarks y `psutil` para el monitoreo.  \n"
   ]
  },
  {
   "cell_type": "code",
   "execution_count": null,
   "id": "3ccb2b3a-1d91-4582-a808-c71c5858fbe0",
   "metadata": {},
   "outputs": [],
   "source": [
    "## 4.1 Prueba de CPU  \n",
    "\n",
    "Se medirá el rendimiento de la CPU a través del cálculo de números primos utilizando `sysbench`.  \n",
    "La prueba se ejecutará durante **30 segundos**, calculando la mayor cantidad de números primos posible.  "
   ]
  },
  {
   "cell_type": "code",
   "execution_count": 4,
   "id": "c3ab1856-edca-40da-8e8a-92d3fd3ade32",
   "metadata": {},
   "outputs": [
    {
     "name": "stdout",
     "output_type": "stream",
     "text": [
      "Archivo no encontrado, creando y ejecutando benchmark...\n",
      "Benchmark completado y guardado en: /home/flez/MyNotebook/vm_vs_docker_benchmark/results/vm_cpu_benchmark.txt\n",
      "total 8\n",
      "-rw-rw-r-- 1 flez flez 813 may 16 20:42 docker_cpu_benchmark.txt\n",
      "-rw-rw-r-- 1 flez flez 813 may 16 20:43 vm_cpu_benchmark.txt\n"
     ]
    }
   ],
   "source": [
    "import os\n",
    "output_path = \"/home/flez/MyNotebook/vm_vs_docker_benchmark/results/vm_cpu_benchmark.txt\"\n",
    "if not os.path.exists(output_path):\n",
    "    print(\"Archivo no encontrado, creando y ejecutando benchmark...\")\n",
    "    !sysbench cpu --cpu-max-prime=20000 --time=30 run > {output_path}\n",
    "    print(f\"Benchmark completado y guardado en: {output_path}\")\n",
    "else:\n",
    "    print(f\"El archivo '{output_path}' ya existe. Si quieres repetir el benchmark, elimina el archivo manualmente.\")\n",
    "    \n",
    "!ls -l /home/flez/MyNotebook/vm_vs_docker_benchmark/results/"
   ]
  },
  {
   "cell_type": "code",
   "execution_count": null,
   "id": "955998b2-7b44-4649-b610-fba4bf2ea9bf",
   "metadata": {},
   "outputs": [],
   "source": [
    "## 4.2 Benchmark de CPU en Docker  \n",
    "\n",
    "### **Objetivo:**  \n",
    "Realizar una evaluación del rendimiento del CPU dentro de un contenedor Docker y almacenar los resultados en un archivo `.txt` dentro de la carpeta `/home/flez/MyNotebook/vm_vs_docker_benchmark/results`.\n",
    "\n",
    "---\n",
    "\n",
    "### Construcción del contenedor Docker  \n",
    "Para este proyecto, contamos con un `Dockerfile` ubicado en la carpeta `scripts`. Este Dockerfile instala `sysbench` y las librerías necesarias para realizar las pruebas.  "
   ]
  },
  {
   "cell_type": "code",
   "execution_count": 2,
   "id": "eb8f7e3c-93ba-413b-a2ca-a7dfb778a4b8",
   "metadata": {},
   "outputs": [
    {
     "name": "stdout",
     "output_type": "stream",
     "text": [
      "DEPRECATED: The legacy builder is deprecated and will be removed in a future release.\n",
      "            Install the buildx component to build images with BuildKit:\n",
      "            https://docs.docker.com/go/buildx/\n",
      "\n",
      "Sending build context to Docker daemon  26.16kB\n",
      "Step 1/5 : FROM ubuntu:20.04\n",
      " ---> b7bab04fd9aa\n",
      "Step 2/5 : RUN apt-get update && apt-get install -y     python3     python3-pip     sysbench     git     curl     procps     jq     && pip3 install --upgrade pip     && pip3 install jupyter matplotlib psutil pandas\n",
      " ---> Using cache\n",
      " ---> ca349b462e1c\n",
      "Step 3/5 : WORKDIR /app\n",
      " ---> Using cache\n",
      " ---> 6bbf505a6564\n",
      "Step 4/5 : EXPOSE 8888\n",
      " ---> Using cache\n",
      " ---> e2a491e69b74\n",
      "Step 5/5 : CMD [\"jupyter\", \"notebook\", \"--ip=0.0.0.0\", \"--allow-root\", \"--NotebookApp.token=''\"]\n",
      " ---> Using cache\n",
      " ---> 9fc814b7cf17\n",
      "Successfully built 9fc814b7cf17\n",
      "Successfully tagged ubuntu_benchmark:latest\n"
     ]
    }
   ],
   "source": [
    "!docker build -t ubuntu_benchmark -f /home/flez/MyNotebook/vm_vs_docker_benchmark/scripts/Dockerfile ."
   ]
  },
  {
   "cell_type": "code",
   "execution_count": null,
   "id": "36ea0e52-eaac-4062-8fdb-dd279a04e021",
   "metadata": {},
   "outputs": [],
   "source": [
    "Ejecución del benchmark de CPU\n",
    "Ahora, vamos a correr el benchmark dentro de un contenedor usando la imagen creada. Los resultados se guardarán en la carpeta /home/flez/MyNotebook/vm_vs_docker_benchmark/results."
   ]
  },
  {
   "cell_type": "code",
   "execution_count": 3,
   "id": "dba1d41e-e886-4ac2-9469-3fe7ef9a4530",
   "metadata": {},
   "outputs": [
    {
     "name": "stdout",
     "output_type": "stream",
     "text": [
      "Archivo no encontrado, creando y ejecutando benchmark en Docker...\n",
      "Benchmark de Docker completado y guardado en: /home/flez/MyNotebook/vm_vs_docker_benchmark/results/docker_cpu_benchmark.txt\n",
      "total 8\n",
      "-rw-rw-r-- 1 flez flez 813 may 16 20:42 docker_cpu_benchmark.txt\n",
      "-rw-rw-r-- 1 flez flez 813 may 16 20:30 vm_cpu_benchmark.txt\n"
     ]
    }
   ],
   "source": [
    "import os\n",
    "output_path = \"/home/flez/MyNotebook/vm_vs_docker_benchmark/results/docker_cpu_benchmark.txt\"\n",
    "if not os.path.exists(output_path):\n",
    "    print(\"Archivo no encontrado, creando y ejecutando benchmark en Docker...\")\n",
    "    !docker run --rm --name=cpu_benchmark ubuntu_benchmark \\\n",
    "    sysbench cpu --cpu-max-prime=20000 --time=30 run > {output_path}\n",
    "    print(f\"Benchmark de Docker completado y guardado en: {output_path}\")\n",
    "else:\n",
    "    print(f\"El archivo '{output_path}' ya existe. Si quieres repetir el benchmark, elimina el archivo manualmente.\")\n",
    "!ls -l /home/flez/MyNotebook/vm_vs_docker_benchmark/results/"
   ]
  },
  {
   "cell_type": "code",
   "execution_count": null,
   "id": "b0dd1f15-3e75-47ad-bd0e-b4c90a434fac",
   "metadata": {},
   "outputs": [],
   "source": [
    "Benchmarking de Memoria de la Máquina Virtual (VirtualBox)\n",
    "En este paso se ejecutará un benchmark de memoria dentro de la VM para medir el rendimiento en operaciones de memoria."
   ]
  },
  {
   "cell_type": "code",
   "execution_count": 5,
   "id": "75989300-b9bc-427b-940b-d84fbff63d2f",
   "metadata": {},
   "outputs": [
    {
     "name": "stdout",
     "output_type": "stream",
     "text": [
      "Archivo no encontrado, creando y ejecutando benchmark en la VM...\n",
      "Benchmark de memoria en la VM completado y guardado en: /home/flez/MyNotebook/vm_vs_docker_benchmark/results/vm_memory_benchmark.txt\n",
      "total 12\n",
      "-rw-rw-r-- 1 flez flez 813 may 16 20:42 docker_cpu_benchmark.txt\n",
      "-rw-rw-r-- 1 flez flez 813 may 16 20:43 vm_cpu_benchmark.txt\n",
      "-rw-rw-r-- 1 flez flez 969 may 16 20:49 vm_memory_benchmark.txt\n"
     ]
    }
   ],
   "source": [
    "import os\n",
    "output_path = \"/home/flez/MyNotebook/vm_vs_docker_benchmark/results/vm_memory_benchmark.txt\"\n",
    "if not os.path.exists(output_path):\n",
    "    print(\"Archivo no encontrado, creando y ejecutando benchmark en la VM...\")\n",
    "    !sysbench memory --memory-total-size=2G --time=30 run > {output_path}\n",
    "    print(f\"Benchmark de memoria en la VM completado y guardado en: {output_path}\")\n",
    "else:\n",
    "    print(f\"El archivo '{output_path}' ya existe. Si quieres repetir el benchmark, elimina el archivo manualmente.\")\n",
    "!ls -l /home/flez/MyNotebook/vm_vs_docker_benchmark/results/"
   ]
  },
  {
   "cell_type": "code",
   "execution_count": null,
   "id": "faea4054-0f08-495c-aaaa-3f10fd729ff1",
   "metadata": {},
   "outputs": [],
   "source": [
    "Benchmarking de Memoria del container Ubuntu (Docker)\n",
    "En este paso se ejecutará un benchmark de memoria dentro del container de docker para medir el rendimiento en operaciones de memoria."
   ]
  },
  {
   "cell_type": "code",
   "execution_count": 6,
   "id": "c97b4216-9b13-4687-9558-52b6c7e98179",
   "metadata": {},
   "outputs": [
    {
     "name": "stdout",
     "output_type": "stream",
     "text": [
      "Archivo no encontrado, creando y ejecutando benchmark en Docker...\n",
      "Benchmark de memoria en Docker completado y guardado en: /home/flez/MyNotebook/vm_vs_docker_benchmark/results/docker_memory_benchmark.txt\n",
      "total 16\n",
      "-rw-rw-r-- 1 flez flez 813 may 16 20:42 docker_cpu_benchmark.txt\n",
      "-rw-rw-r-- 1 flez flez 969 may 16 20:53 docker_memory_benchmark.txt\n",
      "-rw-rw-r-- 1 flez flez 813 may 16 20:43 vm_cpu_benchmark.txt\n",
      "-rw-rw-r-- 1 flez flez 969 may 16 20:49 vm_memory_benchmark.txt\n"
     ]
    }
   ],
   "source": [
    "import os\n",
    "output_path = \"/home/flez/MyNotebook/vm_vs_docker_benchmark/results/docker_memory_benchmark.txt\"\n",
    "if not os.path.exists(output_path):\n",
    "    print(\"Archivo no encontrado, creando y ejecutando benchmark en Docker...\")\n",
    "    !docker run --rm --name=memory_benchmark ubuntu_benchmark \\\n",
    "    sysbench memory --memory-total-size=2G --time=30 run > {output_path}\n",
    "    print(f\"Benchmark de memoria en Docker completado y guardado en: {output_path}\")\n",
    "else:\n",
    "    print(f\"El archivo '{output_path}' ya existe. Si quieres repetir el benchmark, elimina el archivo manualmente.\")\n",
    "!ls -l /home/flez/MyNotebook/vm_vs_docker_benchmark/results/"
   ]
  },
  {
   "cell_type": "code",
   "execution_count": 7,
   "id": "d808d039-3911-4c6f-aa93-fef3b1a35a67",
   "metadata": {},
   "outputs": [
    {
     "name": "stdout",
     "output_type": "stream",
     "text": [
      "Archivo no encontrado, creando y ejecutando benchmark de disco en VM...\n",
      "sysbench 1.0.20 (using system LuaJIT 2.1.0-beta3)\n",
      "\n",
      "128 files, 8192Kb each, 1024Mb total\n",
      "Creating files for the test...\n",
      "Extra file open flags: (none)\n",
      "Creating file test_file.0\n",
      "Creating file test_file.1\n",
      "Creating file test_file.2\n",
      "Creating file test_file.3\n",
      "Creating file test_file.4\n",
      "Creating file test_file.5\n",
      "Creating file test_file.6\n",
      "Creating file test_file.7\n",
      "Creating file test_file.8\n",
      "Creating file test_file.9\n",
      "Creating file test_file.10\n",
      "Creating file test_file.11\n",
      "Creating file test_file.12\n",
      "Creating file test_file.13\n",
      "Creating file test_file.14\n",
      "Creating file test_file.15\n",
      "Creating file test_file.16\n",
      "Creating file test_file.17\n",
      "Creating file test_file.18\n",
      "Creating file test_file.19\n",
      "Creating file test_file.20\n",
      "Creating file test_file.21\n",
      "Creating file test_file.22\n",
      "Creating file test_file.23\n",
      "Creating file test_file.24\n",
      "Creating file test_file.25\n",
      "Creating file test_file.26\n",
      "Creating file test_file.27\n",
      "Creating file test_file.28\n",
      "Creating file test_file.29\n",
      "Creating file test_file.30\n",
      "Creating file test_file.31\n",
      "Creating file test_file.32\n",
      "Creating file test_file.33\n",
      "Creating file test_file.34\n",
      "Creating file test_file.35\n",
      "Creating file test_file.36\n",
      "Creating file test_file.37\n",
      "Creating file test_file.38\n",
      "Creating file test_file.39\n",
      "Creating file test_file.40\n",
      "Creating file test_file.41\n",
      "Creating file test_file.42\n",
      "Creating file test_file.43\n",
      "Creating file test_file.44\n",
      "Creating file test_file.45\n",
      "Creating file test_file.46\n",
      "Creating file test_file.47\n",
      "Creating file test_file.48\n",
      "Creating file test_file.49\n",
      "Creating file test_file.50\n",
      "Creating file test_file.51\n",
      "Creating file test_file.52\n",
      "Creating file test_file.53\n",
      "Creating file test_file.54\n",
      "Creating file test_file.55\n",
      "Creating file test_file.56\n",
      "Creating file test_file.57\n",
      "Creating file test_file.58\n",
      "Creating file test_file.59\n",
      "Creating file test_file.60\n",
      "Creating file test_file.61\n",
      "Creating file test_file.62\n",
      "Creating file test_file.63\n",
      "Creating file test_file.64\n",
      "Creating file test_file.65\n",
      "Creating file test_file.66\n",
      "Creating file test_file.67\n",
      "Creating file test_file.68\n",
      "Creating file test_file.69\n",
      "Creating file test_file.70\n",
      "Creating file test_file.71\n",
      "Creating file test_file.72\n",
      "Creating file test_file.73\n",
      "Creating file test_file.74\n",
      "Creating file test_file.75\n",
      "Creating file test_file.76\n",
      "Creating file test_file.77\n",
      "Creating file test_file.78\n",
      "Creating file test_file.79\n",
      "Creating file test_file.80\n",
      "Creating file test_file.81\n",
      "Creating file test_file.82\n",
      "Creating file test_file.83\n",
      "Creating file test_file.84\n",
      "Creating file test_file.85\n",
      "Creating file test_file.86\n",
      "Creating file test_file.87\n",
      "Creating file test_file.88\n",
      "Creating file test_file.89\n",
      "Creating file test_file.90\n",
      "Creating file test_file.91\n",
      "Creating file test_file.92\n",
      "Creating file test_file.93\n",
      "Creating file test_file.94\n",
      "Creating file test_file.95\n",
      "Creating file test_file.96\n",
      "Creating file test_file.97\n",
      "Creating file test_file.98\n",
      "Creating file test_file.99\n",
      "Creating file test_file.100\n",
      "Creating file test_file.101\n",
      "Creating file test_file.102\n",
      "Creating file test_file.103\n",
      "Creating file test_file.104\n",
      "Creating file test_file.105\n",
      "Creating file test_file.106\n",
      "Creating file test_file.107\n",
      "Creating file test_file.108\n",
      "Creating file test_file.109\n",
      "Creating file test_file.110\n",
      "Creating file test_file.111\n",
      "Creating file test_file.112\n",
      "Creating file test_file.113\n",
      "Creating file test_file.114\n",
      "Creating file test_file.115\n",
      "Creating file test_file.116\n",
      "Creating file test_file.117\n",
      "Creating file test_file.118\n",
      "Creating file test_file.119\n",
      "Creating file test_file.120\n",
      "Creating file test_file.121\n",
      "Creating file test_file.122\n",
      "Creating file test_file.123\n",
      "Creating file test_file.124\n",
      "Creating file test_file.125\n",
      "Creating file test_file.126\n",
      "Creating file test_file.127\n",
      "1073741824 bytes written in 5.06 seconds (202.21 MiB/sec).\n",
      "sysbench 1.0.20 (using system LuaJIT 2.1.0-beta3)\n",
      "\n",
      "Removing test files...\n",
      "Benchmark de disco en VM completado y guardado en: /home/flez/MyNotebook/vm_vs_docker_benchmark/results/vm_disk_benchmark.txt\n",
      "total 20\n",
      "-rw-rw-r-- 1 flez flez  813 may 16 20:42 docker_cpu_benchmark.txt\n",
      "-rw-rw-r-- 1 flez flez  969 may 16 20:53 docker_memory_benchmark.txt\n",
      "-rw-rw-r-- 1 flez flez  813 may 16 20:43 vm_cpu_benchmark.txt\n",
      "-rw-rw-r-- 1 flez flez 1292 may 16 20:57 vm_disk_benchmark.txt\n",
      "-rw-rw-r-- 1 flez flez  969 may 16 20:49 vm_memory_benchmark.txt\n"
     ]
    }
   ],
   "source": [
    "import os\n",
    "output_path = \"/home/flez/MyNotebook/vm_vs_docker_benchmark/results/vm_disk_benchmark.txt\"\n",
    "if not os.path.exists(output_path):\n",
    "    print(\"Archivo no encontrado, creando y ejecutando benchmark de disco en VM...\")\n",
    "    os.system(\"sysbench fileio --file-total-size=1G prepare\")\n",
    "    os.system(f\"sysbench fileio --file-total-size=1G --file-test-mode=rndrw --time=30 --max-requests=0 run > {output_path}\")\n",
    "    os.system(\"sysbench fileio --file-total-size=1G cleanup\")\n",
    "    print(f\"Benchmark de disco en VM completado y guardado en: {output_path}\")\n",
    "else:\n",
    "    print(f\"El archivo '{output_path}' ya existe. Si quieres repetir el benchmark, elimina el archivo manualmente.\")\n",
    "!ls -l /home/flez/MyNotebook/vm_vs_docker_benchmark/results/"
   ]
  },
  {
   "cell_type": "code",
   "execution_count": 8,
   "id": "5d64bb82-aaf1-444e-a388-550ce658ac7a",
   "metadata": {},
   "outputs": [
    {
     "name": "stdout",
     "output_type": "stream",
     "text": [
      "Archivo no encontrado, creando y ejecutando benchmark de disco en Docker...\n",
      "Benchmark de disco en Docker completado y guardado en: /home/flez/MyNotebook/vm_vs_docker_benchmark/results/docker_disk_benchmark.txt\n",
      "total 28\n",
      "-rw-rw-r-- 1 flez flez  813 may 16 20:42 docker_cpu_benchmark.txt\n",
      "-rw-rw-r-- 1 flez flez 5049 may 16 20:59 docker_disk_benchmark.txt\n",
      "-rw-rw-r-- 1 flez flez  969 may 16 20:53 docker_memory_benchmark.txt\n",
      "-rw-rw-r-- 1 flez flez  813 may 16 20:43 vm_cpu_benchmark.txt\n",
      "-rw-rw-r-- 1 flez flez 1292 may 16 20:57 vm_disk_benchmark.txt\n",
      "-rw-rw-r-- 1 flez flez  969 may 16 20:49 vm_memory_benchmark.txt\n"
     ]
    }
   ],
   "source": [
    "import os\n",
    "output_path = \"/home/flez/MyNotebook/vm_vs_docker_benchmark/results/docker_disk_benchmark.txt\"\n",
    "if not os.path.exists(output_path):\n",
    "    print(\"Archivo no encontrado, creando y ejecutando benchmark de disco en Docker...\")\n",
    "    os.system(f\"docker run --rm ubuntu_benchmark bash -c \\\"sysbench fileio --file-total-size=1G prepare && sysbench fileio --file-total-size=1G --file-test-mode=rndrw --time=30 --max-requests=0 run && sysbench fileio --file-total-size=1G cleanup\\\" > {output_path}\")\n",
    "    print(f\"Benchmark de disco en Docker completado y guardado en: {output_path}\")\n",
    "else:\n",
    "    print(f\"El archivo '{output_path}' ya existe. Si quieres repetir el benchmark, elimina el archivo manualmente.\")\n",
    "!ls -l /home/flez/MyNotebook/vm_vs_docker_benchmark/results/"
   ]
  },
  {
   "cell_type": "code",
   "execution_count": 9,
   "id": "4f35e5e3-e233-454d-9946-60608fb932e1",
   "metadata": {},
   "outputs": [
    {
     "name": "stdout",
     "output_type": "stream",
     "text": [
      "Archivo no encontrado, midiendo tiempo de arranque de la VM...\n",
      "Tiempo de arranque de VM guardado en: /home/flez/MyNotebook/vm_vs_docker_benchmark/results/vm_boot_time.txt\n",
      "total 32\n",
      "-rw-rw-r-- 1 flez flez  813 may 16 20:42 docker_cpu_benchmark.txt\n",
      "-rw-rw-r-- 1 flez flez 5049 may 16 20:59 docker_disk_benchmark.txt\n",
      "-rw-rw-r-- 1 flez flez  969 may 16 20:53 docker_memory_benchmark.txt\n",
      "-rw-rw-r-- 1 flez flez  120 may 16 21:01 vm_boot_time.txt\n",
      "-rw-rw-r-- 1 flez flez  813 may 16 20:43 vm_cpu_benchmark.txt\n",
      "-rw-rw-r-- 1 flez flez 1292 may 16 20:57 vm_disk_benchmark.txt\n",
      "-rw-rw-r-- 1 flez flez  969 may 16 20:49 vm_memory_benchmark.txt\n"
     ]
    }
   ],
   "source": [
    "import os\n",
    "import subprocess\n",
    "output_path = \"/home/flez/MyNotebook/vm_vs_docker_benchmark/results/vm_boot_time.txt\"\n",
    "if not os.path.exists(output_path):\n",
    "    print(\"Archivo no encontrado, midiendo tiempo de arranque de la VM...\")\n",
    "    boot_time = subprocess.getoutput(\"systemd-analyze\")\n",
    "    with open(output_path, \"w\") as f:\n",
    "        f.write(boot_time)\n",
    "    print(f\"Tiempo de arranque de VM guardado en: {output_path}\")\n",
    "else:\n",
    "    print(f\"El archivo '{output_path}' ya existe. Si quieres repetir la prueba, elimina el archivo manualmente.\")\n",
    "!ls -l /home/flez/MyNotebook/vm_vs_docker_benchmark/results/"
   ]
  },
  {
   "cell_type": "code",
   "execution_count": 10,
   "id": "0adecbdc-87db-469b-a8d9-4cb04c996ff1",
   "metadata": {},
   "outputs": [
    {
     "name": "stdout",
     "output_type": "stream",
     "text": [
      "Archivo no encontrado, midiendo tiempo de arranque del contenedor Docker...\n",
      "Contenedor iniciado\n",
      "iempo de arranque de Docker guardado en: /home/flez/MyNotebook/vm_vs_docker_benchmark/results/docker_boot_time.txt\n",
      "total 36\n",
      "-rw-rw-r-- 1 flez flez   56 may 16 21:02 docker_boot_time.txt\n",
      "-rw-rw-r-- 1 flez flez  813 may 16 20:42 docker_cpu_benchmark.txt\n",
      "-rw-rw-r-- 1 flez flez 5049 may 16 20:59 docker_disk_benchmark.txt\n",
      "-rw-rw-r-- 1 flez flez  969 may 16 20:53 docker_memory_benchmark.txt\n",
      "-rw-rw-r-- 1 flez flez  120 may 16 21:01 vm_boot_time.txt\n",
      "-rw-rw-r-- 1 flez flez  813 may 16 20:43 vm_cpu_benchmark.txt\n",
      "-rw-rw-r-- 1 flez flez 1292 may 16 20:57 vm_disk_benchmark.txt\n",
      "-rw-rw-r-- 1 flez flez  969 may 16 20:49 vm_memory_benchmark.txt\n"
     ]
    }
   ],
   "source": [
    "import os\n",
    "import time\n",
    "output_path = \"/home/flez/MyNotebook/vm_vs_docker_benchmark/results/docker_boot_time.txt\"\n",
    "if not os.path.exists(output_path):\n",
    "    print(\"Archivo no encontrado, midiendo tiempo de arranque del contenedor Docker...\")\n",
    "    start = time.time()\n",
    "    os.system(\"docker run --rm ubuntu_benchmark echo 'Contenedor iniciado'\")\n",
    "    end = time.time()\n",
    "    boot_time = f\"Tiempo de arranque de contenedor Docker: {end - start:.3f} segundos\\n\"\n",
    "    with open(output_path, \"w\") as f:\n",
    "        f.write(boot_time)\n",
    "    print(f\"iempo de arranque de Docker guardado en: {output_path}\")\n",
    "else:\n",
    "    print(f\"El archivo '{output_path}' ya existe. Si quieres repetir la prueba, elimina el archivo manualmente.\")\n",
    "!ls -l /home/flez/MyNotebook/vm_vs_docker_benchmark/results/"
   ]
  }
 ],
 "metadata": {
  "kernelspec": {
   "display_name": "Python 3 (ipykernel)",
   "language": "python",
   "name": "python3"
  },
  "language_info": {
   "codemirror_mode": {
    "name": "ipython",
    "version": 3
   },
   "file_extension": ".py",
   "mimetype": "text/x-python",
   "name": "python",
   "nbconvert_exporter": "python",
   "pygments_lexer": "ipython3",
   "version": "3.10.12"
  }
 },
 "nbformat": 4,
 "nbformat_minor": 5
}
