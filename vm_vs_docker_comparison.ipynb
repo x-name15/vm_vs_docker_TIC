{
 "cells": [
  {
   "cell_type": "code",
   "execution_count": null,
   "id": "b40bc242",
   "metadata": {},
   "outputs": [],
   "source": [
    "import os\n",
    "import zipfile\n",
    "\n",
    "# Define the folder structure and files\n",
    "base_dir = \"vm_vs_docker_benchmark\"\n",
    "notebooks_dir = os.path.join(base_dir, \"notebooks\")\n",
    "scripts_dir = os.path.join(base_dir, \"scripts\")\n",
    "results_dir = os.path.join(base_dir, \"results\")\n",
    "\n",
    "# Create directories\n",
    "os.makedirs(notebooks_dir, exist_ok=True)\n",
    "os.makedirs(scripts_dir, exist_ok=True)\n",
    "os.makedirs(results_dir, exist_ok=True)\n",
    "\n",
    "# Create notebook placeholder\n",
    "notebook_path = os.path.join(notebooks_dir, \"vm_vs_docker_comparison.ipynb\")\n",
    "with open(notebook_path, \"w\", encoding=\"utf-8\") as f:\n",
    "    f.write(\"# Your benchmarking notebook goes here\")\n",
    "\n",
    "# Create shell scripts\n",
    "vm_script = \"\"\"#!/bin/bash\n",
    "echo \"Setting up environment for benchmarking...\"\n",
    "sudo apt update && sudo apt upgrade -y\n",
    "sudo apt install -y python3 python3-pip sysbench docker.io git curl procps\n",
    "pip3 install --upgrade pip\n",
    "pip3 install jupyter matplotlib psutil\n",
    "sudo usermod -aG docker $USER\n",
    "echo \"Setup complete! Please restart the VM for Docker permissions.\"\n",
    "echo \"To start Jupyter, run: jupyter notebook\"\n",
    "\"\"\"\n",
    "\n",
    "docker_script = \"\"\"#!/bin/bash\n",
    "echo \"Setting up Docker environment for benchmarking...\"\n",
    "sudo apt update && sudo apt upgrade -y\n",
    "sudo apt install -y python3 python3-pip sysbench git curl procps\n",
    "pip3 install --upgrade pip\n",
    "pip3 install jupyter matplotlib psutil\n",
    "echo \"Docker/WSL2 setup complete!\"\n",
    "echo \"To start Jupyter Notebook, run: jupyter notebook --ip=0.0.0.0 --port=8888 --no-browser\"\n",
    "\"\"\"\n",
    "\n",
    "dockerfile = \"\"\"FROM python:3.10-slim\n",
    "RUN apt update && apt install -y sysbench git curl procps \\\n",
    "    && pip install --upgrade pip \\\n",
    "    && pip install jupyter matplotlib psutil\n",
    "WORKDIR /app\n",
    "COPY . .\n",
    "EXPOSE 8888\n",
    "CMD [\"jupyter\", \"notebook\", \"--ip=0.0.0.0\", \"--allow-root\", \"--NotebookApp.token=''\"]\n",
    "\"\"\"\n"
   ]
  },
  {
   "cell_type": "markdown",
   "id": "aa498837",
   "metadata": {},
   "source": [
    "# 1. Introducción\n",
    "Explicación de qué son las máquinas virtuales y los contenedores."
   ]
  },
  {
   "cell_type": "markdown",
   "id": "a92357c4",
   "metadata": {},
   "source": [
    "## 2. Configuración del entorno de prueba\n",
    "\n",
    "- Especificaciones de la máquina host (CPU, RAM, SO).\n",
    "- Configuración de la máquina virtual (VirtualBox, SO invitado).\n",
    "- Configuración del contenedor Docker (imagen base)."
   ]
  },
  {
   "cell_type": "code",
   "execution_count": null,
   "id": "69d525d4",
   "metadata": {},
   "outputs": [],
   "source": [
    "!docker --version\n",
    "!vboxmanage --version"
   ]
  },
  {
   "cell_type": "markdown",
   "id": "84868c7f",
   "metadata": {},
   "source": [
    "## 3. Métricas y herramientas utilizadas\n",
    "\n",
    "1. Uso de recursos (CPU, RAM, Disco) — htop, docker stats, VBoxManage metrics, vmstat\n",
    "2. Tiempo de arranque — time, systemd-analyze\n",
    "3. Pruebas de rendimiento — sysbench, stress-ng, fio, dd, iperf3\n",
    "4. Caso de prueba de aplicación — elección de aplicación, medición de despliegue, rendimiento, latencia\n",
    "5. Aislamiento y seguridad — separación de kernel, AppArmor, SELinux\n",
    "6. Portabilidad y flexibilidad — exportación/importación, multiplataforma, CI/CD"
   ]
  },
  {
   "cell_type": "markdown",
   "id": "f384d6c2",
   "metadata": {},
   "source": [
    "## 4. Resultados\n",
    "Instrucciones para ejecutar pruebas y guardar resultados en CSV."
   ]
  },
  {
   "cell_type": "code",
   "execution_count": null,
   "id": "8c2cefc1",
   "metadata": {},
   "outputs": [],
   "source": [
    "import psutil\n",
    "\n",
    "# Medición de uso de CPU y RAM\n",
    "cpu = psutil.cpu_percent(interval=1)\n",
    "ram = psutil.virtual_memory().used / (1024 * 1024)\n",
    "print(f\"Uso de CPU (%): {cpu}\")\n",
    "print(f\"Uso de RAM (MB): {ram:.2f}\")"
   ]
  },
  {
   "cell_type": "code",
   "execution_count": null,
   "id": "e315c87d",
   "metadata": {},
   "outputs": [],
   "source": [
    "# import pandas as pd\n",
    "# df = pd.read_csv('../results/uso_recursos.csv')\n",
    "# df.head()"
   ]
  },
  {
   "cell_type": "markdown",
   "id": "dd0b964c",
   "metadata": {},
   "source": [
    "### 4.1 Gráfico comparativo de uso de recursos"
   ]
  },
  {
   "cell_type": "code",
   "execution_count": null,
   "id": "02fcb4cf",
   "metadata": {},
   "outputs": [],
   "source": [
    "import matplotlib.pyplot as plt\n",
    "\n",
    "labels = ['CPU (%)', 'RAM (MB)']\n",
    "vm = [30, 2048]\n",
    "docker = [15, 1024]\n",
    "x = range(len(labels))\n",
    "plt.bar(x, vm, width=0.4, label='VM', align='center')\n",
    "plt.bar(x, docker, width=0.4, label='Docker', align='edge')\n",
    "plt.xticks(x, labels)\n",
    "plt.legend()\n",
    "plt.title('Uso de Recursos')\n",
    "plt.show()"
   ]
  },
  {
   "cell_type": "markdown",
   "id": "111fa00b",
   "metadata": {},
   "source": [
    "## 5. Análisis\n",
    "Discusión de fortalezas y debilidades de VM y Docker basadas en los resultados."
   ]
  },
  {
   "cell_type": "markdown",
   "id": "bb33a92f",
   "metadata": {},
   "source": [
    "## 6. Conclusión\n",
    "Resumen de cuándo usar VM vs Docker según las necesidades."
   ]
  }
 ],
 "metadata": {},
 "nbformat": 4,
 "nbformat_minor": 5
}
